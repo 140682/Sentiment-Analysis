{
 "cells": [
  {
   "cell_type": "markdown",
   "metadata": {},
   "source": [
    "# Анализ тональности отзывов. Неделя 6:\n",
    "## Peer-graded Assignment: Разработка сентимент-анализа под задачу заказчика"
   ]
  },
  {
   "cell_type": "markdown",
   "metadata": {},
   "source": [
    "К вашей компании пришел заказчик, которому нужно решение задачи анализа тональности отзывов на товары. Заказчик хочет, чтобы вы оценили возможное качество работы такого алгоритма на небольшой тестовой выборке. При этом больше никаких данных вам не предоставляется. Требуется, чтобы качество работы вашего алгоритма (по accuracy) было строго больше 85%.\n",
    "\n",
    "Оценка качества в этом задании реализована через контест на Kaggle Inclass:\n",
    "https://inclass.kaggle.com/c/product-reviews-sentiment-analysis"
   ]
  },
  {
   "cell_type": "markdown",
   "metadata": {},
   "source": [
    "Вам предстоит посмотреть на предоставленные заказчиком отзывы, собрать похожие отзывы в качестве обучающей выборки, и поэкспериментировать с постановкой задачи (разметкой вашей выборки на позитивные и негативные примеры) так, чтобы результат на примерах заказчика был по возможности получше.\n",
    "\n",
    "Обратите внимание, что заказчик предоставил всего 100 примеров в качестве тестовой выборки - ситуация, когда размеченных данных почти нет - вообще очень частая в индустриальном анализе данных. Конечно, эти отзывы можно было бы идеально разметить вручную и получить максимальное качество, но вы сами не заинтересованы в таком подходе, т.к. потом придется и на всех новых примерах демонстрировать заказчику идеальную работу, что, конечно, вряд ли будет по силам алгоритму. В любом случае рано или поздно алгоритм придется разрабатывать, поэтому попытки \"сжульничать\" и не делать никакой модели не одобряются."
   ]
  },
  {
   "cell_type": "code",
   "execution_count": 182,
   "metadata": {
    "collapsed": true
   },
   "outputs": [],
   "source": [
    "import pandas as pd\n",
    "import numpy as np\n",
    "import requests\n",
    "import bs4\n",
    "import codecs\n",
    "import re\n",
    "import nltk\n",
    "from nltk.stem import WordNetLemmatizer\n",
    "from sklearn.linear_model import LogisticRegression\n",
    "from sklearn.svm import LinearSVC\n",
    "from sklearn.feature_extraction.text import TfidfTransformer, CountVectorizer, TfidfVectorizer\n",
    "from sklearn.pipeline import make_pipeline\n",
    "from sklearn.pipeline import Pipeline\n",
    "from sklearn.model_selection import GridSearchCV\n",
    "from sklearn.cross_validation import cross_val_score\n",
    "from nltk.corpus import stopwords\n",
    "from sklearn.externals import joblib"
   ]
  },
  {
   "cell_type": "code",
   "execution_count": 3,
   "metadata": {
    "collapsed": true
   },
   "outputs": [],
   "source": [
    "# загрузим тестовую выборку от заказчика:\n",
    "# тестовая выборка в формате <review>текст_отзыва_1</review> два перевода строки <review>текст_отзыва_2</review> и т.д.\n",
    "with codecs.open('test.csv', 'rb', encoding='utf8') as f: # придется применить кодирование в utf8\n",
    "    data = f.read()\n",
    "\n",
    "test = [review.text for review in bs4.BeautifulSoup(data, 'lxml').find_all('review')]"
   ]
  },
  {
   "cell_type": "code",
   "execution_count": 4,
   "metadata": {},
   "outputs": [
    {
     "name": "stdout",
     "output_type": "stream",
     "text": [
      "всего в тестовом наборе 100 отзывов \n",
      "\n",
      "Вот первый из них: \n",
      "Ужасно слабый аккумулятор, это основной минус этого аппарата, разряжается буквально за пару часов при включенном wifi и на макс подсветке, например если играть или смотреть видео, следовательно использовать можно только если есть постоянная возможность подзарядиться. Качества звука через динамик далеко не на высоте.Наблюдаются незначительные тормоза в некоторых приложениях и вообще в меню. Очень мало встроенной памяти, а приложения устанавливаются именно туда, с этим связанны неудобства - нужно постоянно переносить их на карту памяти.\n",
      "Несколько неудобно что нету отдельной кнопки для фото. Подумываю купить батарею большей емкость мб что нибудь измениться.\n",
      "\n"
     ]
    }
   ],
   "source": [
    "print('всего в тестовом наборе {} отзывов \\n\\nВот первый из них: \\n{}'.format(len(test), test[0]))"
   ]
  },
  {
   "cell_type": "markdown",
   "metadata": {},
   "source": [
    "### Парсинг"
   ]
  },
  {
   "cell_type": "markdown",
   "metadata": {
    "collapsed": true
   },
   "source": [
    "Прочтя неколько отзывов, можно убедится что речь идет о мобильных телефонах. Следовательно нам нужно парсить сайт об отзывах именно мобильных телефонов: https://torg.mail.ru/review/goods/mobilephones/"
   ]
  },
  {
   "cell_type": "markdown",
   "metadata": {},
   "source": [
    "Создадим функцию парсинга данного сайта (аргументы: базовая страница сайта, количество страниц для парсинга)"
   ]
  },
  {
   "cell_type": "code",
   "execution_count": 119,
   "metadata": {
    "collapsed": true
   },
   "outputs": [],
   "source": [
    "def Parser(Site='https://torg.mail.ru/review/goods/mobilephones/?page=', n=10):\n",
    "    \n",
    "    Comment = [] # список комментариев\n",
    "    Rating = [] # список оценок\n",
    "    \n",
    "    for i in range(1,n+1):\n",
    "\n",
    "        site = Site + str(i) # ссылка на i-ую страницу сайта\n",
    "\n",
    "        req = requests.get(site)\n",
    "        parser = bs4.BeautifulSoup(req.text, 'lxml') # парсинг страницы site\n",
    "\n",
    "        # Опытным путем выявлено:\n",
    "        # <div class=\"review-item__content\"> - блок содержащий отзыв о телефоне (правда там мусора много, потом думаю избавиться)\n",
    "        # <span class=\"review-item__rating-counter\">4</span> - блок с оценкой отзыва (он выше самго отзыва)\n",
    "\n",
    "        comment = parser.findAll('div', attrs={'class':'review-item__content'})\n",
    "        rating = parser.findAll('span', attrs={'class':'review-item__rating-counter'})\n",
    "\n",
    "        # добавляем в списки новые комменты и их оценки\n",
    "        Comment.extend(list(map(lambda x: x.text, comment)))\n",
    "        Rating.extend(list(map(lambda x: float(x.text.replace(',','.')), rating)))\n",
    "        \n",
    "    return Comment, Rating"
   ]
  },
  {
   "cell_type": "markdown",
   "metadata": {},
   "source": [
    "Новая функция грамотного разделения отзывов. Делим отзыв на три:\n",
    "1. сам отзыв и соответствующая оценка для него\n",
    "2. достоинства с положительной оценкой\n",
    "3. недостатки с отрицательной оценкой"
   ]
  },
  {
   "cell_type": "code",
   "execution_count": 125,
   "metadata": {
    "collapsed": true
   },
   "outputs": [],
   "source": [
    "def Parser_2(Site='https://torg.mail.ru/review/goods/mobilephones/?page=', n=10):\n",
    "    \n",
    "    Comment = [] # список комментариев\n",
    "    Rating = [] # список оценок\n",
    "    \n",
    "    for i in range(1,n+1):\n",
    "\n",
    "        site = Site + str(i) # ссылка на i-ую страницу сайта\n",
    "\n",
    "        req = requests.get(site)\n",
    "        parser = bs4.BeautifulSoup(req.text, 'lxml') # парсинг страницы site\n",
    "\n",
    "        comment = parser.findAll('div', attrs={'class':'review-item__content'})\n",
    "        rating = parser.findAll('span', attrs={'class':'review-item__rating-counter'})\n",
    "\n",
    "\n",
    "        # выяснено опытным путем, что p[0]-отзыв, p[1]-достоинства, p[2]-недостатки\n",
    "        for c,r in zip(comment,rating):\n",
    "            p = c.findAll('p', attrs={'class':'review-item__paragraph'}) # параграфы нулевого отзыва\n",
    "            \n",
    "            # рассматриваем только полные отзывы (с комментом, достоинствами и недостатками)\n",
    "            if len(p)==3:\n",
    "                Comment.extend(list(map(lambda x: x.text, p))) # p[0]-отзыв, p[1]-достоинства, p[2]-недостатки\n",
    "                rat = []\n",
    "                if float(r.text.replace(',','.'))>=4: rat.append(1)\n",
    "                else: rat.append(0)\n",
    "                rat.append(1) # добавляем достоинство p[1]\n",
    "                rat.append(0) # добавляем недостаток p[2]\n",
    "                Rating.extend(rat)\n",
    "    \n",
    "    return Comment, Rating"
   ]
  },
  {
   "cell_type": "markdown",
   "metadata": {},
   "source": [
    "Произведем парсинг по 100 страницам и сформируем выборки:"
   ]
  },
  {
   "cell_type": "code",
   "execution_count": 130,
   "metadata": {},
   "outputs": [
    {
     "name": "stdout",
     "output_type": "stream",
     "text": [
      "Wall time: 16min 54s\n"
     ]
    }
   ],
   "source": [
    "%%time\n",
    "X, y = Parser_2(n=500)"
   ]
  },
  {
   "cell_type": "code",
   "execution_count": 128,
   "metadata": {
    "collapsed": true
   },
   "outputs": [],
   "source": [
    "# можно посмотреть на достоинства и недостатки\n",
    "# for r,c in zip(y[:30],X[:30]):\n",
    "#     print(r,':',c,'\\n')"
   ]
  },
  {
   "cell_type": "markdown",
   "metadata": {},
   "source": [
    "Составление датафрейма по данным с парсинга:"
   ]
  },
  {
   "cell_type": "code",
   "execution_count": 131,
   "metadata": {
    "collapsed": true
   },
   "outputs": [],
   "source": [
    "# Составим датафрейм по нашим собраным отзывам\n",
    "train_df = pd.DataFrame({'Comment': X, 'Rating':y})\n",
    "\n",
    "# Составим датафрейм по тестовым отзывам заказчика\n",
    "test_df = pd.DataFrame({'Comment':test})"
   ]
  },
  {
   "cell_type": "code",
   "execution_count": 142,
   "metadata": {
    "collapsed": true
   },
   "outputs": [],
   "source": [
    "# X = None # освобожу память\n",
    "# y = None"
   ]
  },
  {
   "cell_type": "code",
   "execution_count": 143,
   "metadata": {},
   "outputs": [
    {
     "name": "stdout",
     "output_type": "stream",
     "text": [
      "размер обучающей выборки: (25239, 2)\n"
     ]
    }
   ],
   "source": [
    "print('размер обучающей выборки: {}'.format(train_df.shape))"
   ]
  },
  {
   "cell_type": "code",
   "execution_count": 144,
   "metadata": {},
   "outputs": [
    {
     "data": {
      "text/html": [
       "<div>\n",
       "<style>\n",
       "    .dataframe thead tr:only-child th {\n",
       "        text-align: right;\n",
       "    }\n",
       "\n",
       "    .dataframe thead th {\n",
       "        text-align: left;\n",
       "    }\n",
       "\n",
       "    .dataframe tbody tr th {\n",
       "        vertical-align: top;\n",
       "    }\n",
       "</style>\n",
       "<table border=\"1\" class=\"dataframe\">\n",
       "  <thead>\n",
       "    <tr style=\"text-align: right;\">\n",
       "      <th></th>\n",
       "      <th>Comment</th>\n",
       "      <th>Rating</th>\n",
       "    </tr>\n",
       "  </thead>\n",
       "  <tbody>\n",
       "    <tr>\n",
       "      <th>0</th>\n",
       "      <td>\\nв корне не согласен с прежним отзывом. телеф...</td>\n",
       "      <td>1</td>\n",
       "    </tr>\n",
       "    <tr>\n",
       "      <th>1</th>\n",
       "      <td>\\nсд карта, не убиваемый телефон - разбился на...</td>\n",
       "      <td>1</td>\n",
       "    </tr>\n",
       "    <tr>\n",
       "      <th>2</th>\n",
       "      <td>\\nвход на наушники не стандартный, нужно привы...</td>\n",
       "      <td>0</td>\n",
       "    </tr>\n",
       "  </tbody>\n",
       "</table>\n",
       "</div>"
      ],
      "text/plain": [
       "                                             Comment  Rating\n",
       "0  \\nв корне не согласен с прежним отзывом. телеф...       1\n",
       "1  \\nсд карта, не убиваемый телефон - разбился на...       1\n",
       "2  \\nвход на наушники не стандартный, нужно привы...       0"
      ]
     },
     "execution_count": 144,
     "metadata": {},
     "output_type": "execute_result"
    }
   ],
   "source": [
    "train_df.head(3)"
   ]
  },
  {
   "cell_type": "code",
   "execution_count": 145,
   "metadata": {},
   "outputs": [
    {
     "data": {
      "text/html": [
       "<div>\n",
       "<style>\n",
       "    .dataframe thead tr:only-child th {\n",
       "        text-align: right;\n",
       "    }\n",
       "\n",
       "    .dataframe thead th {\n",
       "        text-align: left;\n",
       "    }\n",
       "\n",
       "    .dataframe tbody tr th {\n",
       "        vertical-align: top;\n",
       "    }\n",
       "</style>\n",
       "<table border=\"1\" class=\"dataframe\">\n",
       "  <thead>\n",
       "    <tr style=\"text-align: right;\">\n",
       "      <th></th>\n",
       "      <th>Comment</th>\n",
       "    </tr>\n",
       "  </thead>\n",
       "  <tbody>\n",
       "    <tr>\n",
       "      <th>0</th>\n",
       "      <td>Ужасно слабый аккумулятор, это основной минус ...</td>\n",
       "    </tr>\n",
       "    <tr>\n",
       "      <th>1</th>\n",
       "      <td>ценанадежность-неубиваемостьдолго держит батар...</td>\n",
       "    </tr>\n",
       "    <tr>\n",
       "      <th>2</th>\n",
       "      <td>подробнее в комментариях\\nК сожалению, факт по...</td>\n",
       "    </tr>\n",
       "  </tbody>\n",
       "</table>\n",
       "</div>"
      ],
      "text/plain": [
       "                                             Comment\n",
       "0  Ужасно слабый аккумулятор, это основной минус ...\n",
       "1  ценанадежность-неубиваемостьдолго держит батар...\n",
       "2  подробнее в комментариях\\nК сожалению, факт по..."
      ]
     },
     "execution_count": 145,
     "metadata": {},
     "output_type": "execute_result"
    }
   ],
   "source": [
    "test_df.head(3)"
   ]
  },
  {
   "cell_type": "markdown",
   "metadata": {},
   "source": [
    "Сохраним полученные данные (необработанные от мусора)"
   ]
  },
  {
   "cell_type": "code",
   "execution_count": 166,
   "metadata": {
    "collapsed": true
   },
   "outputs": [],
   "source": [
    "train_df.to_csv('data_Not_Treated.csv', index=False)"
   ]
  },
  {
   "cell_type": "code",
   "execution_count": null,
   "metadata": {
    "collapsed": true
   },
   "outputs": [],
   "source": [
    "# Раскоментировать при подгрузке файла\n",
    "# train_df = pd.read_csv('data_Not_Treated.csv', encoding='cp1251')\n",
    "# train_df.head()"
   ]
  },
  {
   "cell_type": "markdown",
   "metadata": {},
   "source": [
    "### Предобработка данных"
   ]
  },
  {
   "cell_type": "code",
   "execution_count": 146,
   "metadata": {
    "collapsed": true
   },
   "outputs": [],
   "source": [
    "wnl = WordNetLemmatizer() # лемматизация\n",
    "A = []; B = []\n",
    "\n",
    "for Tweet in train_df['Comment']:\n",
    "    Tweet = re.sub(r'[^\\w\\s]+|[\\d]+', r'', Tweet).strip()\n",
    "    Tokens = nltk.word_tokenize(Tweet)\n",
    "    Stemmed = [wnl.lemmatize(token).lower() for token in Tokens]\n",
    "    A.append(Stemmed)\n",
    "\n",
    "\n",
    "for Tweet in test_df['Comment']:\n",
    "    Tweet = re.sub(r'[^\\w\\s]+|[\\d]+', r'', Tweet).strip()\n",
    "    Tokens = nltk.word_tokenize(Tweet)\n",
    "    Stemmed = [wnl.lemmatize(token).lower() for token in Tokens]\n",
    "    B.append(Stemmed)\n",
    "    \n",
    "    \n",
    "# преобразование (склейка) в список строк\n",
    "X_train = list(map(lambda x: ' '.join(x), A))\n",
    "X_test = list(map(lambda x: ' '.join(x), B))"
   ]
  },
  {
   "cell_type": "markdown",
   "metadata": {},
   "source": [
    "Если парсинг по первому алгоритму то: В нашей модели признаки являются количественными, перейдем к бинарным (0-отзыв негативный, 1-отзыв положительный)"
   ]
  },
  {
   "cell_type": "code",
   "execution_count": 150,
   "metadata": {
    "collapsed": true
   },
   "outputs": [],
   "source": [
    "# y_train = train_df['Rating'].apply(lambda x: 1 if x>=4 else 0)\n",
    "y_train = train_df['Rating']"
   ]
  },
  {
   "cell_type": "code",
   "execution_count": 151,
   "metadata": {
    "collapsed": true
   },
   "outputs": [],
   "source": [
    "# train_df = None # освобожу память\n",
    "# test_df = None"
   ]
  },
  {
   "cell_type": "markdown",
   "metadata": {},
   "source": [
    "Сохраним уже обработанные данные"
   ]
  },
  {
   "cell_type": "code",
   "execution_count": null,
   "metadata": {
    "collapsed": true
   },
   "outputs": [],
   "source": [
    "pd.DateFrame({'Comment': X_train, 'Rating': y_train}).to_csv('data_Processed.csv', index=False)"
   ]
  },
  {
   "cell_type": "markdown",
   "metadata": {},
   "source": [
    "### Обучение и выбор модели"
   ]
  },
  {
   "cell_type": "code",
   "execution_count": 152,
   "metadata": {},
   "outputs": [
    {
     "data": {
      "text/plain": [
       "1    15078\n",
       "0    10161\n",
       "Name: Rating, dtype: int64"
      ]
     },
     "execution_count": 152,
     "metadata": {},
     "output_type": "execute_result"
    }
   ],
   "source": [
    "y_train.value_counts()"
   ]
  },
  {
   "cell_type": "markdown",
   "metadata": {},
   "source": [
    "Если парсинг по первому алгоритму то выборка будет несбалансирована, учтём это"
   ]
  },
  {
   "cell_type": "code",
   "execution_count": 155,
   "metadata": {},
   "outputs": [
    {
     "name": "stdout",
     "output_type": "stream",
     "text": [
      "Wall time: 25 s\n"
     ]
    }
   ],
   "source": [
    "%%time\n",
    "vectorizer = TfidfVectorizer(min_df=2, ngram_range=(1, 2))\n",
    "Model = LogisticRegression(class_weight='balanced', random_state=17)\n",
    "pipeline = Pipeline([(\"vect\", vectorizer), (\"model\", Model)])\n",
    "\n",
    "score = cross_val_score(pipeline, X_train, y_train, cv=5)"
   ]
  },
  {
   "cell_type": "code",
   "execution_count": 159,
   "metadata": {},
   "outputs": [
    {
     "name": "stdout",
     "output_type": "stream",
     "text": [
      "0.8520541672330901\n"
     ]
    }
   ],
   "source": [
    "print(score.mean())"
   ]
  },
  {
   "cell_type": "markdown",
   "metadata": {},
   "source": [
    "Оптимизация праметров"
   ]
  },
  {
   "cell_type": "code",
   "execution_count": 160,
   "metadata": {},
   "outputs": [
    {
     "name": "stdout",
     "output_type": "stream",
     "text": [
      "Wall time: 1h 12min 1s\n"
     ]
    }
   ],
   "source": [
    "%%time\n",
    "vectorizer = TfidfVectorizer()\n",
    "Model = LogisticRegression(class_weight='balanced', random_state=17)\n",
    "pipeline = Pipeline([(\"vect\", vectorizer), (\"model\", Model)])\n",
    "\n",
    "param_grid = {'vect__ngram_range': [(1,1), (1,2), (1,3)],\n",
    "              'vect__min_df': [1,2,3,4,5],\n",
    "              'model__C': [0.0001,0.001,0.01,0.1,1,10,100,1000]\n",
    "             }\n",
    "\n",
    "\n",
    "grid = GridSearchCV(pipeline, param_grid, cv=5)\n",
    "grid.fit(X_train, y_train)"
   ]
  },
  {
   "cell_type": "code",
   "execution_count": 171,
   "metadata": {},
   "outputs": [
    {
     "name": "stdout",
     "output_type": "stream",
     "text": [
      "Наилучшее значение перекр проверки: 0.854\n",
      "Наилучшие параметры: {'model__C': 10, 'vect__min_df': 1, 'vect__ngram_range': (1, 2)}\n"
     ]
    }
   ],
   "source": [
    "print(\"Наилучшее значение перекр проверки: {:.3f}\".format(grid.best_score_))\n",
    "print(\"Наилучшие параметры: {}\".format(grid.best_params_))"
   ]
  },
  {
   "cell_type": "markdown",
   "metadata": {},
   "source": [
    "### Лучшая модель показала на тестовой выборке 98%"
   ]
  },
  {
   "cell_type": "code",
   "execution_count": 191,
   "metadata": {},
   "outputs": [
    {
     "data": {
      "image/png": "[encoded data removed]",
      "text/plain": [
       "<PIL.PngImagePlugin.PngImageFile image mode=RGB size=960x764 at 0x1B1FBB38>"
      ]
     },
     "execution_count": 191,
     "metadata": {},
     "output_type": "execute_result"
    }
   ],
   "source": [
    "from PIL import Image\n",
    "image = Image.open(\"1.png\") # Открываем изображение\n",
    "image"
   ]
  },
  {
   "cell_type": "markdown",
   "metadata": {},
   "source": [
    "Запишем данную лучшую модель в pkl. По данной модели будем строить прогнозы в flask"
   ]
  },
  {
   "cell_type": "code",
   "execution_count": 192,
   "metadata": {},
   "outputs": [
    {
     "data": {
      "text/plain": [
       "['Model_LogisticRegressionClassifier.pkl']"
      ]
     },
     "execution_count": 192,
     "metadata": {},
     "output_type": "execute_result"
    }
   ],
   "source": [
    "vectorizer = TfidfVectorizer(min_df=1, ngram_range=(1, 2))\n",
    "Model = LogisticRegression(C=10, class_weight='balanced', random_state=17)\n",
    "\n",
    "X_transform = vectorizer.fit_transform(X_train)\n",
    "Model.fit(X_transform, y_train)\n",
    "\n",
    "joblib.dump(vectorizer, \"Model_CountVectorizer.pkl\")\n",
    "joblib.dump(Model, \"Model_LogisticRegressionClassifier.pkl\")"
   ]
  }
 ],
 "metadata": {
  "kernelspec": {
   "display_name": "Python 2",
   "language": "python",
   "name": "python2"
  },
  "language_info": {
   "codemirror_mode": {
    "name": "ipython",
    "version": 2
   },
   "file_extension": ".py",
   "mimetype": "text/x-python",
   "name": "python",
   "nbconvert_exporter": "python",
   "pygments_lexer": "ipython2",
   "version": "2.7.13"
  }
 },
 "nbformat": 4,
 "nbformat_minor": 2
}
